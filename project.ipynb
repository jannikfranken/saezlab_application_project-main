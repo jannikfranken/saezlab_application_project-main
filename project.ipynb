{
 "cells": [
  {
   "attachments": {},
   "cell_type": "markdown",
   "metadata": {},
   "source": [
    "Welcome to my application project. Here, I analyze a data set in order to get my first hands-on experience with single-cell analysis.\n",
    "After talkigng to Pau, he recommended some twitter posts in which I could find data sets.\n",
    "\n",
    "I researched a paper called \"Resolving the fibrotic niche of human liver cirrhosis at single-cell level\" by P. Ramachandran et al. from 2019.\n",
    "Citation: \"Ramachandran, P., Dobie, R., Wilson-Kanamori, J.R. et al. Resolving the fibrotic niche of human liver cirrhosis at single-cell level. Nature 575, 512–518 (2019). https://doi.org/10.1038/s41586-019-1631-3\"\n",
    "\n",
    "The data set:\n",
    "I chose a fibrosis data set.\n",
    "\n"
   ]
  }
 ],
 "metadata": {
  "kernelspec": {
   "display_name": "Python 3",
   "language": "python",
   "name": "python3"
  },
  "language_info": {
   "name": "python",
   "version": "3.11.3"
  },
  "orig_nbformat": 4
 },
 "nbformat": 4,
 "nbformat_minor": 2
}
